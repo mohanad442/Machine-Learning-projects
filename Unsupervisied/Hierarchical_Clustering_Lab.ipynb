{
  "cells": [
    {
      "cell_type": "markdown",
      "metadata": {
        "id": "tmgoI3ZhxKOT"
      },
      "source": [
        "# <a name=\"0\">Hierarchical Clustering</a>"
      ]
    },
    {
      "cell_type": "markdown",
      "metadata": {
        "id": "pRveHRMxxKOW"
      },
      "source": [
        "1. <a href=\"#1\">Read the dataset</a>\n",
        "2. <a href=\"#2\">Data investigation</a>\n",
        "3. <a href=\"#3\">Data preprocessing </a>\n",
        "4. <a href=\"#4\">Features transformation </a>\n",
        "4. <a href=\"#5\">Training datasets</a>\n",
        "5. <a href=\"#6\">Improvement ideas</a>\n",
        "\n"
      ]
    },
    {
      "cell_type": "code",
      "execution_count": null,
      "metadata": {
        "id": "YR9OOapPxKOX"
      },
      "outputs": [],
      "source": [
        "import pandas as pd\n",
        "import numpy as np\n",
        "import matplotlib.pyplot as plt\n",
        "import warnings\n",
        "import seaborn as sns\n",
        "warnings.filterwarnings(\"ignore\")"
      ]
    },
    {
      "cell_type": "markdown",
      "metadata": {
        "id": "m92CHqpUxKOY"
      },
      "source": [
        "## 1. <a name=\"1\">Read the dataset</a>\n",
        "(<a href=\"#0\">Go to top</a>)\n",
        "\n",
        "First dowmload the data set from this link https://www.kaggle.com/fernandol/countries-of-the-world\n",
        "then import it in python."
      ]
    },
    {
      "cell_type": "code",
      "execution_count": null,
      "metadata": {
        "colab": {
          "base_uri": "https://localhost:8080/"
        },
        "id": "1nBoY_aBxKOZ",
        "outputId": "ddab701e-d385-49e3-f7ce-340bdd52af12"
      },
      "outputs": [
        {
          "output_type": "stream",
          "name": "stdout",
          "text": [
            "The shape of the dataset is: (227, 20)\n"
          ]
        }
      ],
      "source": [
        "#read the data\n",
        "\n",
        "data_path = '/content/countries of the world.csv'  #the path where you downloaded the data\n",
        "df = pd.read_csv(data_path)\n",
        "\n",
        "print('The shape of the dataset is:', df.shape)"
      ]
    },
    {
      "cell_type": "markdown",
      "metadata": {
        "id": "UBYSORkbxKOa"
      },
      "source": [
        "## 2. <a name=\"2\">Data investigation</a>\n",
        "(<a href=\"#0\">Go to top</a>)\n",
        "\n",
        "in this part you need to check the data quality and assess any issues in the data as:\n",
        "- null values in each column \n",
        "- each column has the proper data type\n",
        "- outliers\n",
        "- duplicate rows\n",
        "- distribution for each column (skewness)\n",
        "<br>\n",
        "\n",
        "**comment each issue you find** "
      ]
    },
    {
      "cell_type": "code",
      "source": [
        "df.head()"
      ],
      "metadata": {
        "colab": {
          "base_uri": "https://localhost:8080/",
          "height": 443
        },
        "id": "VsVpF7KUyMi3",
        "outputId": "48c291c2-97d1-41df-f526-bea808e7ae8d"
      },
      "execution_count": null,
      "outputs": [
        {
          "output_type": "execute_result",
          "data": {
            "text/plain": [
              "           Country                               Region  Population  \\\n",
              "0     Afghanistan         ASIA (EX. NEAR EAST)             31056997   \n",
              "1         Albania   EASTERN EUROPE                          3581655   \n",
              "2         Algeria   NORTHERN AFRICA                        32930091   \n",
              "3  American Samoa   OCEANIA                                   57794   \n",
              "4         Andorra   WESTERN EUROPE                            71201   \n",
              "\n",
              "   Area (sq. mi.) Pop. Density (per sq. mi.) Coastline (coast/area ratio)  \\\n",
              "0          647500                       48,0                         0,00   \n",
              "1           28748                      124,6                         1,26   \n",
              "2         2381740                       13,8                         0,04   \n",
              "3             199                      290,4                        58,29   \n",
              "4             468                      152,1                         0,00   \n",
              "\n",
              "  Net migration Infant mortality (per 1000 births)  GDP ($ per capita)  \\\n",
              "0         23,06                             163,07               700.0   \n",
              "1         -4,93                              21,52              4500.0   \n",
              "2         -0,39                                 31              6000.0   \n",
              "3        -20,71                               9,27              8000.0   \n",
              "4           6,6                               4,05             19000.0   \n",
              "\n",
              "  Literacy (%) Phones (per 1000) Arable (%) Crops (%) Other (%) Climate  \\\n",
              "0         36,0               3,2      12,13      0,22     87,65       1   \n",
              "1         86,5              71,2      21,09      4,42     74,49       3   \n",
              "2         70,0              78,1       3,22      0,25     96,53       1   \n",
              "3         97,0             259,5         10        15        75       2   \n",
              "4        100,0             497,2       2,22         0     97,78       3   \n",
              "\n",
              "  Birthrate Deathrate Agriculture Industry Service  \n",
              "0      46,6     20,34        0,38     0,24    0,38  \n",
              "1     15,11      5,22       0,232    0,188   0,579  \n",
              "2     17,14      4,61       0,101      0,6   0,298  \n",
              "3     22,46      3,27         NaN      NaN     NaN  \n",
              "4      8,71      6,25         NaN      NaN     NaN  "
            ],
            "text/html": [
              "\n",
              "  <div id=\"df-357b0f10-4f96-42dd-b596-1aed8d68b34f\">\n",
              "    <div class=\"colab-df-container\">\n",
              "      <div>\n",
              "<style scoped>\n",
              "    .dataframe tbody tr th:only-of-type {\n",
              "        vertical-align: middle;\n",
              "    }\n",
              "\n",
              "    .dataframe tbody tr th {\n",
              "        vertical-align: top;\n",
              "    }\n",
              "\n",
              "    .dataframe thead th {\n",
              "        text-align: right;\n",
              "    }\n",
              "</style>\n",
              "<table border=\"1\" class=\"dataframe\">\n",
              "  <thead>\n",
              "    <tr style=\"text-align: right;\">\n",
              "      <th></th>\n",
              "      <th>Country</th>\n",
              "      <th>Region</th>\n",
              "      <th>Population</th>\n",
              "      <th>Area (sq. mi.)</th>\n",
              "      <th>Pop. Density (per sq. mi.)</th>\n",
              "      <th>Coastline (coast/area ratio)</th>\n",
              "      <th>Net migration</th>\n",
              "      <th>Infant mortality (per 1000 births)</th>\n",
              "      <th>GDP ($ per capita)</th>\n",
              "      <th>Literacy (%)</th>\n",
              "      <th>Phones (per 1000)</th>\n",
              "      <th>Arable (%)</th>\n",
              "      <th>Crops (%)</th>\n",
              "      <th>Other (%)</th>\n",
              "      <th>Climate</th>\n",
              "      <th>Birthrate</th>\n",
              "      <th>Deathrate</th>\n",
              "      <th>Agriculture</th>\n",
              "      <th>Industry</th>\n",
              "      <th>Service</th>\n",
              "    </tr>\n",
              "  </thead>\n",
              "  <tbody>\n",
              "    <tr>\n",
              "      <th>0</th>\n",
              "      <td>Afghanistan</td>\n",
              "      <td>ASIA (EX. NEAR EAST)</td>\n",
              "      <td>31056997</td>\n",
              "      <td>647500</td>\n",
              "      <td>48,0</td>\n",
              "      <td>0,00</td>\n",
              "      <td>23,06</td>\n",
              "      <td>163,07</td>\n",
              "      <td>700.0</td>\n",
              "      <td>36,0</td>\n",
              "      <td>3,2</td>\n",
              "      <td>12,13</td>\n",
              "      <td>0,22</td>\n",
              "      <td>87,65</td>\n",
              "      <td>1</td>\n",
              "      <td>46,6</td>\n",
              "      <td>20,34</td>\n",
              "      <td>0,38</td>\n",
              "      <td>0,24</td>\n",
              "      <td>0,38</td>\n",
              "    </tr>\n",
              "    <tr>\n",
              "      <th>1</th>\n",
              "      <td>Albania</td>\n",
              "      <td>EASTERN EUROPE</td>\n",
              "      <td>3581655</td>\n",
              "      <td>28748</td>\n",
              "      <td>124,6</td>\n",
              "      <td>1,26</td>\n",
              "      <td>-4,93</td>\n",
              "      <td>21,52</td>\n",
              "      <td>4500.0</td>\n",
              "      <td>86,5</td>\n",
              "      <td>71,2</td>\n",
              "      <td>21,09</td>\n",
              "      <td>4,42</td>\n",
              "      <td>74,49</td>\n",
              "      <td>3</td>\n",
              "      <td>15,11</td>\n",
              "      <td>5,22</td>\n",
              "      <td>0,232</td>\n",
              "      <td>0,188</td>\n",
              "      <td>0,579</td>\n",
              "    </tr>\n",
              "    <tr>\n",
              "      <th>2</th>\n",
              "      <td>Algeria</td>\n",
              "      <td>NORTHERN AFRICA</td>\n",
              "      <td>32930091</td>\n",
              "      <td>2381740</td>\n",
              "      <td>13,8</td>\n",
              "      <td>0,04</td>\n",
              "      <td>-0,39</td>\n",
              "      <td>31</td>\n",
              "      <td>6000.0</td>\n",
              "      <td>70,0</td>\n",
              "      <td>78,1</td>\n",
              "      <td>3,22</td>\n",
              "      <td>0,25</td>\n",
              "      <td>96,53</td>\n",
              "      <td>1</td>\n",
              "      <td>17,14</td>\n",
              "      <td>4,61</td>\n",
              "      <td>0,101</td>\n",
              "      <td>0,6</td>\n",
              "      <td>0,298</td>\n",
              "    </tr>\n",
              "    <tr>\n",
              "      <th>3</th>\n",
              "      <td>American Samoa</td>\n",
              "      <td>OCEANIA</td>\n",
              "      <td>57794</td>\n",
              "      <td>199</td>\n",
              "      <td>290,4</td>\n",
              "      <td>58,29</td>\n",
              "      <td>-20,71</td>\n",
              "      <td>9,27</td>\n",
              "      <td>8000.0</td>\n",
              "      <td>97,0</td>\n",
              "      <td>259,5</td>\n",
              "      <td>10</td>\n",
              "      <td>15</td>\n",
              "      <td>75</td>\n",
              "      <td>2</td>\n",
              "      <td>22,46</td>\n",
              "      <td>3,27</td>\n",
              "      <td>NaN</td>\n",
              "      <td>NaN</td>\n",
              "      <td>NaN</td>\n",
              "    </tr>\n",
              "    <tr>\n",
              "      <th>4</th>\n",
              "      <td>Andorra</td>\n",
              "      <td>WESTERN EUROPE</td>\n",
              "      <td>71201</td>\n",
              "      <td>468</td>\n",
              "      <td>152,1</td>\n",
              "      <td>0,00</td>\n",
              "      <td>6,6</td>\n",
              "      <td>4,05</td>\n",
              "      <td>19000.0</td>\n",
              "      <td>100,0</td>\n",
              "      <td>497,2</td>\n",
              "      <td>2,22</td>\n",
              "      <td>0</td>\n",
              "      <td>97,78</td>\n",
              "      <td>3</td>\n",
              "      <td>8,71</td>\n",
              "      <td>6,25</td>\n",
              "      <td>NaN</td>\n",
              "      <td>NaN</td>\n",
              "      <td>NaN</td>\n",
              "    </tr>\n",
              "  </tbody>\n",
              "</table>\n",
              "</div>\n",
              "      <button class=\"colab-df-convert\" onclick=\"convertToInteractive('df-357b0f10-4f96-42dd-b596-1aed8d68b34f')\"\n",
              "              title=\"Convert this dataframe to an interactive table.\"\n",
              "              style=\"display:none;\">\n",
              "        \n",
              "  <svg xmlns=\"http://www.w3.org/2000/svg\" height=\"24px\"viewBox=\"0 0 24 24\"\n",
              "       width=\"24px\">\n",
              "    <path d=\"M0 0h24v24H0V0z\" fill=\"none\"/>\n",
              "    <path d=\"M18.56 5.44l.94 2.06.94-2.06 2.06-.94-2.06-.94-.94-2.06-.94 2.06-2.06.94zm-11 1L8.5 8.5l.94-2.06 2.06-.94-2.06-.94L8.5 2.5l-.94 2.06-2.06.94zm10 10l.94 2.06.94-2.06 2.06-.94-2.06-.94-.94-2.06-.94 2.06-2.06.94z\"/><path d=\"M17.41 7.96l-1.37-1.37c-.4-.4-.92-.59-1.43-.59-.52 0-1.04.2-1.43.59L10.3 9.45l-7.72 7.72c-.78.78-.78 2.05 0 2.83L4 21.41c.39.39.9.59 1.41.59.51 0 1.02-.2 1.41-.59l7.78-7.78 2.81-2.81c.8-.78.8-2.07 0-2.86zM5.41 20L4 18.59l7.72-7.72 1.47 1.35L5.41 20z\"/>\n",
              "  </svg>\n",
              "      </button>\n",
              "      \n",
              "  <style>\n",
              "    .colab-df-container {\n",
              "      display:flex;\n",
              "      flex-wrap:wrap;\n",
              "      gap: 12px;\n",
              "    }\n",
              "\n",
              "    .colab-df-convert {\n",
              "      background-color: #E8F0FE;\n",
              "      border: none;\n",
              "      border-radius: 50%;\n",
              "      cursor: pointer;\n",
              "      display: none;\n",
              "      fill: #1967D2;\n",
              "      height: 32px;\n",
              "      padding: 0 0 0 0;\n",
              "      width: 32px;\n",
              "    }\n",
              "\n",
              "    .colab-df-convert:hover {\n",
              "      background-color: #E2EBFA;\n",
              "      box-shadow: 0px 1px 2px rgba(60, 64, 67, 0.3), 0px 1px 3px 1px rgba(60, 64, 67, 0.15);\n",
              "      fill: #174EA6;\n",
              "    }\n",
              "\n",
              "    [theme=dark] .colab-df-convert {\n",
              "      background-color: #3B4455;\n",
              "      fill: #D2E3FC;\n",
              "    }\n",
              "\n",
              "    [theme=dark] .colab-df-convert:hover {\n",
              "      background-color: #434B5C;\n",
              "      box-shadow: 0px 1px 3px 1px rgba(0, 0, 0, 0.15);\n",
              "      filter: drop-shadow(0px 1px 2px rgba(0, 0, 0, 0.3));\n",
              "      fill: #FFFFFF;\n",
              "    }\n",
              "  </style>\n",
              "\n",
              "      <script>\n",
              "        const buttonEl =\n",
              "          document.querySelector('#df-357b0f10-4f96-42dd-b596-1aed8d68b34f button.colab-df-convert');\n",
              "        buttonEl.style.display =\n",
              "          google.colab.kernel.accessAllowed ? 'block' : 'none';\n",
              "\n",
              "        async function convertToInteractive(key) {\n",
              "          const element = document.querySelector('#df-357b0f10-4f96-42dd-b596-1aed8d68b34f');\n",
              "          const dataTable =\n",
              "            await google.colab.kernel.invokeFunction('convertToInteractive',\n",
              "                                                     [key], {});\n",
              "          if (!dataTable) return;\n",
              "\n",
              "          const docLinkHtml = 'Like what you see? Visit the ' +\n",
              "            '<a target=\"_blank\" href=https://colab.research.google.com/notebooks/data_table.ipynb>data table notebook</a>'\n",
              "            + ' to learn more about interactive tables.';\n",
              "          element.innerHTML = '';\n",
              "          dataTable['output_type'] = 'display_data';\n",
              "          await google.colab.output.renderOutput(dataTable, element);\n",
              "          const docLink = document.createElement('div');\n",
              "          docLink.innerHTML = docLinkHtml;\n",
              "          element.appendChild(docLink);\n",
              "        }\n",
              "      </script>\n",
              "    </div>\n",
              "  </div>\n",
              "  "
            ]
          },
          "metadata": {},
          "execution_count": 8
        }
      ]
    },
    {
      "cell_type": "code",
      "source": [
        "df.shape"
      ],
      "metadata": {
        "colab": {
          "base_uri": "https://localhost:8080/"
        },
        "id": "prJCYnesyRJM",
        "outputId": "9c35b9f2-86cb-42e3-a4b9-2d343d072a03"
      },
      "execution_count": null,
      "outputs": [
        {
          "output_type": "execute_result",
          "data": {
            "text/plain": [
              "(227, 20)"
            ]
          },
          "metadata": {},
          "execution_count": 23
        }
      ]
    },
    {
      "cell_type": "code",
      "execution_count": null,
      "metadata": {
        "colab": {
          "base_uri": "https://localhost:8080/"
        },
        "id": "hge9cGbmxKOa",
        "outputId": "5d301f42-2a21-47df-df12-803d026ce7bb"
      },
      "outputs": [
        {
          "output_type": "stream",
          "name": "stdout",
          "text": [
            "<class 'pandas.core.frame.DataFrame'>\n",
            "RangeIndex: 227 entries, 0 to 226\n",
            "Data columns (total 20 columns):\n",
            " #   Column                              Non-Null Count  Dtype  \n",
            "---  ------                              --------------  -----  \n",
            " 0   Country                             227 non-null    object \n",
            " 1   Region                              227 non-null    object \n",
            " 2   Population                          227 non-null    int64  \n",
            " 3   Area (sq. mi.)                      227 non-null    int64  \n",
            " 4   Pop. Density (per sq. mi.)          227 non-null    object \n",
            " 5   Coastline (coast/area ratio)        227 non-null    object \n",
            " 6   Net migration                       224 non-null    object \n",
            " 7   Infant mortality (per 1000 births)  224 non-null    object \n",
            " 8   GDP ($ per capita)                  226 non-null    float64\n",
            " 9   Literacy (%)                        209 non-null    object \n",
            " 10  Phones (per 1000)                   223 non-null    object \n",
            " 11  Arable (%)                          225 non-null    object \n",
            " 12  Crops (%)                           225 non-null    object \n",
            " 13  Other (%)                           225 non-null    object \n",
            " 14  Climate                             205 non-null    object \n",
            " 15  Birthrate                           224 non-null    object \n",
            " 16  Deathrate                           223 non-null    object \n",
            " 17  Agriculture                         212 non-null    object \n",
            " 18  Industry                            211 non-null    object \n",
            " 19  Service                             212 non-null    object \n",
            "dtypes: float64(1), int64(2), object(17)\n",
            "memory usage: 35.6+ KB\n"
          ]
        }
      ],
      "source": [
        "# Let's see the data types and non-null values for each column\n",
        "df.info()"
      ]
    },
    {
      "cell_type": "code",
      "execution_count": null,
      "metadata": {
        "colab": {
          "base_uri": "https://localhost:8080/"
        },
        "id": "o6fcsWs8xKOb",
        "outputId": "f47cc1a2-955c-4c5f-e06b-8d346affa5d1"
      },
      "outputs": [
        {
          "output_type": "execute_result",
          "data": {
            "text/plain": [
              "Country                               0.00\n",
              "Region                                0.00\n",
              "Population                            0.00\n",
              "Area (sq. mi.)                        0.00\n",
              "Pop. Density (per sq. mi.)            0.00\n",
              "Coastline (coast/area ratio)          0.00\n",
              "Net migration                         1.32\n",
              "Infant mortality (per 1000 births)    1.32\n",
              "GDP ($ per capita)                    0.44\n",
              "Literacy (%)                          7.93\n",
              "Phones (per 1000)                     1.76\n",
              "Arable (%)                            0.88\n",
              "Crops (%)                             0.88\n",
              "Other (%)                             0.88\n",
              "Climate                               9.69\n",
              "Birthrate                             1.32\n",
              "Deathrate                             1.76\n",
              "Agriculture                           6.61\n",
              "Industry                              7.05\n",
              "Service                               6.61\n",
              "dtype: float64"
            ]
          },
          "metadata": {},
          "execution_count": 6
        }
      ],
      "source": [
        "round(df.isnull().sum(axis=0)*100/df.shape[0],2)"
      ]
    },
    {
      "cell_type": "code",
      "execution_count": null,
      "metadata": {
        "colab": {
          "base_uri": "https://localhost:8080/",
          "height": 300
        },
        "id": "m5aEdlwSxKOb",
        "outputId": "3558b187-5bc0-4d75-a263-c2e3ce7bbc91"
      },
      "outputs": [
        {
          "output_type": "execute_result",
          "data": {
            "text/plain": [
              "         Population  Area (sq. mi.)  GDP ($ per capita)\n",
              "count  2.270000e+02    2.270000e+02          226.000000\n",
              "mean   2.874028e+07    5.982270e+05         9689.823009\n",
              "std    1.178913e+08    1.790282e+06        10049.138513\n",
              "min    7.026000e+03    2.000000e+00          500.000000\n",
              "25%    4.376240e+05    4.647500e+03         1900.000000\n",
              "50%    4.786994e+06    8.660000e+04         5550.000000\n",
              "75%    1.749777e+07    4.418110e+05        15700.000000\n",
              "max    1.313974e+09    1.707520e+07        55100.000000"
            ],
            "text/html": [
              "\n",
              "  <div id=\"df-d30b5ecf-301c-4250-9b5c-0e464588f201\">\n",
              "    <div class=\"colab-df-container\">\n",
              "      <div>\n",
              "<style scoped>\n",
              "    .dataframe tbody tr th:only-of-type {\n",
              "        vertical-align: middle;\n",
              "    }\n",
              "\n",
              "    .dataframe tbody tr th {\n",
              "        vertical-align: top;\n",
              "    }\n",
              "\n",
              "    .dataframe thead th {\n",
              "        text-align: right;\n",
              "    }\n",
              "</style>\n",
              "<table border=\"1\" class=\"dataframe\">\n",
              "  <thead>\n",
              "    <tr style=\"text-align: right;\">\n",
              "      <th></th>\n",
              "      <th>Population</th>\n",
              "      <th>Area (sq. mi.)</th>\n",
              "      <th>GDP ($ per capita)</th>\n",
              "    </tr>\n",
              "  </thead>\n",
              "  <tbody>\n",
              "    <tr>\n",
              "      <th>count</th>\n",
              "      <td>2.270000e+02</td>\n",
              "      <td>2.270000e+02</td>\n",
              "      <td>226.000000</td>\n",
              "    </tr>\n",
              "    <tr>\n",
              "      <th>mean</th>\n",
              "      <td>2.874028e+07</td>\n",
              "      <td>5.982270e+05</td>\n",
              "      <td>9689.823009</td>\n",
              "    </tr>\n",
              "    <tr>\n",
              "      <th>std</th>\n",
              "      <td>1.178913e+08</td>\n",
              "      <td>1.790282e+06</td>\n",
              "      <td>10049.138513</td>\n",
              "    </tr>\n",
              "    <tr>\n",
              "      <th>min</th>\n",
              "      <td>7.026000e+03</td>\n",
              "      <td>2.000000e+00</td>\n",
              "      <td>500.000000</td>\n",
              "    </tr>\n",
              "    <tr>\n",
              "      <th>25%</th>\n",
              "      <td>4.376240e+05</td>\n",
              "      <td>4.647500e+03</td>\n",
              "      <td>1900.000000</td>\n",
              "    </tr>\n",
              "    <tr>\n",
              "      <th>50%</th>\n",
              "      <td>4.786994e+06</td>\n",
              "      <td>8.660000e+04</td>\n",
              "      <td>5550.000000</td>\n",
              "    </tr>\n",
              "    <tr>\n",
              "      <th>75%</th>\n",
              "      <td>1.749777e+07</td>\n",
              "      <td>4.418110e+05</td>\n",
              "      <td>15700.000000</td>\n",
              "    </tr>\n",
              "    <tr>\n",
              "      <th>max</th>\n",
              "      <td>1.313974e+09</td>\n",
              "      <td>1.707520e+07</td>\n",
              "      <td>55100.000000</td>\n",
              "    </tr>\n",
              "  </tbody>\n",
              "</table>\n",
              "</div>\n",
              "      <button class=\"colab-df-convert\" onclick=\"convertToInteractive('df-d30b5ecf-301c-4250-9b5c-0e464588f201')\"\n",
              "              title=\"Convert this dataframe to an interactive table.\"\n",
              "              style=\"display:none;\">\n",
              "        \n",
              "  <svg xmlns=\"http://www.w3.org/2000/svg\" height=\"24px\"viewBox=\"0 0 24 24\"\n",
              "       width=\"24px\">\n",
              "    <path d=\"M0 0h24v24H0V0z\" fill=\"none\"/>\n",
              "    <path d=\"M18.56 5.44l.94 2.06.94-2.06 2.06-.94-2.06-.94-.94-2.06-.94 2.06-2.06.94zm-11 1L8.5 8.5l.94-2.06 2.06-.94-2.06-.94L8.5 2.5l-.94 2.06-2.06.94zm10 10l.94 2.06.94-2.06 2.06-.94-2.06-.94-.94-2.06-.94 2.06-2.06.94z\"/><path d=\"M17.41 7.96l-1.37-1.37c-.4-.4-.92-.59-1.43-.59-.52 0-1.04.2-1.43.59L10.3 9.45l-7.72 7.72c-.78.78-.78 2.05 0 2.83L4 21.41c.39.39.9.59 1.41.59.51 0 1.02-.2 1.41-.59l7.78-7.78 2.81-2.81c.8-.78.8-2.07 0-2.86zM5.41 20L4 18.59l7.72-7.72 1.47 1.35L5.41 20z\"/>\n",
              "  </svg>\n",
              "      </button>\n",
              "      \n",
              "  <style>\n",
              "    .colab-df-container {\n",
              "      display:flex;\n",
              "      flex-wrap:wrap;\n",
              "      gap: 12px;\n",
              "    }\n",
              "\n",
              "    .colab-df-convert {\n",
              "      background-color: #E8F0FE;\n",
              "      border: none;\n",
              "      border-radius: 50%;\n",
              "      cursor: pointer;\n",
              "      display: none;\n",
              "      fill: #1967D2;\n",
              "      height: 32px;\n",
              "      padding: 0 0 0 0;\n",
              "      width: 32px;\n",
              "    }\n",
              "\n",
              "    .colab-df-convert:hover {\n",
              "      background-color: #E2EBFA;\n",
              "      box-shadow: 0px 1px 2px rgba(60, 64, 67, 0.3), 0px 1px 3px 1px rgba(60, 64, 67, 0.15);\n",
              "      fill: #174EA6;\n",
              "    }\n",
              "\n",
              "    [theme=dark] .colab-df-convert {\n",
              "      background-color: #3B4455;\n",
              "      fill: #D2E3FC;\n",
              "    }\n",
              "\n",
              "    [theme=dark] .colab-df-convert:hover {\n",
              "      background-color: #434B5C;\n",
              "      box-shadow: 0px 1px 3px 1px rgba(0, 0, 0, 0.15);\n",
              "      filter: drop-shadow(0px 1px 2px rgba(0, 0, 0, 0.3));\n",
              "      fill: #FFFFFF;\n",
              "    }\n",
              "  </style>\n",
              "\n",
              "      <script>\n",
              "        const buttonEl =\n",
              "          document.querySelector('#df-d30b5ecf-301c-4250-9b5c-0e464588f201 button.colab-df-convert');\n",
              "        buttonEl.style.display =\n",
              "          google.colab.kernel.accessAllowed ? 'block' : 'none';\n",
              "\n",
              "        async function convertToInteractive(key) {\n",
              "          const element = document.querySelector('#df-d30b5ecf-301c-4250-9b5c-0e464588f201');\n",
              "          const dataTable =\n",
              "            await google.colab.kernel.invokeFunction('convertToInteractive',\n",
              "                                                     [key], {});\n",
              "          if (!dataTable) return;\n",
              "\n",
              "          const docLinkHtml = 'Like what you see? Visit the ' +\n",
              "            '<a target=\"_blank\" href=https://colab.research.google.com/notebooks/data_table.ipynb>data table notebook</a>'\n",
              "            + ' to learn more about interactive tables.';\n",
              "          element.innerHTML = '';\n",
              "          dataTable['output_type'] = 'display_data';\n",
              "          await google.colab.output.renderOutput(dataTable, element);\n",
              "          const docLink = document.createElement('div');\n",
              "          docLink.innerHTML = docLinkHtml;\n",
              "          element.appendChild(docLink);\n",
              "        }\n",
              "      </script>\n",
              "    </div>\n",
              "  </div>\n",
              "  "
            ]
          },
          "metadata": {},
          "execution_count": 24
        }
      ],
      "source": [
        "# This will print basic statistics for numerical columns\n",
        "df.describe()"
      ]
    },
    {
      "cell_type": "markdown",
      "metadata": {
        "id": "VpFPZD37xKOc"
      },
      "source": [
        "## 3. <a name=\"3\">Data preprocessing</a>\n",
        "(<a href=\"#0\">Go to top</a>)\n"
      ]
    },
    {
      "cell_type": "markdown",
      "metadata": {
        "id": "gNKZflZhxKOd"
      },
      "source": [
        "### Define below all the issues that you had found in the previous part\n",
        "1- There are a few missing values we need to deal with          \n",
        "2- The data type of many columns need to be handled          \n",
        "3- We need to check for outliers          "
      ]
    },
    {
      "cell_type": "code",
      "execution_count": null,
      "metadata": {
        "id": "m1pBvgwSxKOd"
      },
      "outputs": [],
      "source": [
        "#make a copy for the original dataset\n",
        "df_copy=df.copy()"
      ]
    },
    {
      "cell_type": "markdown",
      "metadata": {
        "id": "IOW38IyfxKOe"
      },
      "source": [
        "### for each issue adapt this methodology \n",
        "- start by defining the solution\n",
        "- apply this solution onn the data\n",
        "- test the solution to make sure that you have solved the issue"
      ]
    },
    {
      "cell_type": "markdown",
      "source": [
        "**Handle datatypes**"
      ],
      "metadata": {
        "id": "Vf5jhD4Z2KEI"
      }
    },
    {
      "cell_type": "code",
      "source": [
        "cols = df_copy.select_dtypes('object').columns[2:]"
      ],
      "metadata": {
        "id": "tk20Jprj3vg_"
      },
      "execution_count": null,
      "outputs": []
    },
    {
      "cell_type": "code",
      "source": [
        "for col in cols:\n",
        "  df_copy[col] = df_copy[col].str.replace(',', '').astype('float')"
      ],
      "metadata": {
        "id": "N8kwjoKC0-Nn"
      },
      "execution_count": null,
      "outputs": []
    },
    {
      "cell_type": "code",
      "source": [
        "df_copy.dtypes"
      ],
      "metadata": {
        "colab": {
          "base_uri": "https://localhost:8080/"
        },
        "id": "xJfCthxG0Q1o",
        "outputId": "a2b1c515-18dc-4ca5-dc64-13fac7fd2f64"
      },
      "execution_count": null,
      "outputs": [
        {
          "output_type": "execute_result",
          "data": {
            "text/plain": [
              "Country                                object\n",
              "Region                                 object\n",
              "Population                              int64\n",
              "Area (sq. mi.)                          int64\n",
              "Pop. Density (per sq. mi.)            float64\n",
              "Coastline (coast/area ratio)          float64\n",
              "Net migration                         float64\n",
              "Infant mortality (per 1000 births)    float64\n",
              "GDP ($ per capita)                    float64\n",
              "Literacy (%)                          float64\n",
              "Phones (per 1000)                     float64\n",
              "Arable (%)                            float64\n",
              "Crops (%)                             float64\n",
              "Other (%)                             float64\n",
              "Climate                               float64\n",
              "Birthrate                             float64\n",
              "Deathrate                             float64\n",
              "Agriculture                           float64\n",
              "Industry                              float64\n",
              "Service                               float64\n",
              "dtype: object"
            ]
          },
          "metadata": {},
          "execution_count": 7
        }
      ]
    },
    {
      "cell_type": "markdown",
      "metadata": {
        "id": "FLGxGqUuxKOf"
      },
      "source": [
        "**Handle missing values**"
      ]
    },
    {
      "cell_type": "code",
      "source": [
        "import missingno as msno"
      ],
      "metadata": {
        "id": "p-lBHm3_1TLH"
      },
      "execution_count": null,
      "outputs": []
    },
    {
      "cell_type": "code",
      "source": [
        "msno.matrix(df_copy)"
      ],
      "metadata": {
        "colab": {
          "base_uri": "https://localhost:8080/",
          "height": 705
        },
        "id": "2Yw2I-Ha1Wcp",
        "outputId": "9a2d1d1d-9372-43f4-8392-c973b2537648"
      },
      "execution_count": null,
      "outputs": [
        {
          "output_type": "execute_result",
          "data": {
            "text/plain": [
              "<matplotlib.axes._subplots.AxesSubplot at 0x7ff05c62baf0>"
            ]
          },
          "metadata": {},
          "execution_count": 87
        },
        {
          "output_type": "display_data",
          "data": {
            "text/plain": [
              "<Figure size 1800x720 with 2 Axes>"
            ],
            "image/png": "[encoded data removed]"
          },
          "metadata": {
            "needs_background": "light"
          }
        }
      ]
    },
    {
      "cell_type": "code",
      "source": [
        "cols = ['Net migration', 'Infant mortality (per 1000 births)',\n",
        "       'GDP ($ per capita)', 'Phones (per 1000)', 'Arable (%)',\n",
        "       'Crops (%)', 'Other (%)', 'Birthrate', 'Deathrate']\n",
        "df_copy.dropna(subset= cols, inplace = True)"
      ],
      "metadata": {
        "id": "QCe4GT7e6Llv"
      },
      "execution_count": null,
      "outputs": []
    },
    {
      "cell_type": "code",
      "source": [
        "df_copy.shape"
      ],
      "metadata": {
        "colab": {
          "base_uri": "https://localhost:8080/"
        },
        "id": "qefwKIGs8dQs",
        "outputId": "2ba467d4-cfd5-4f29-9abb-218981be9098"
      },
      "execution_count": null,
      "outputs": [
        {
          "output_type": "execute_result",
          "data": {
            "text/plain": [
              "(218, 20)"
            ]
          },
          "metadata": {},
          "execution_count": 14
        }
      ]
    },
    {
      "cell_type": "code",
      "source": [
        "from sklearn.impute import KNNImputer"
      ],
      "metadata": {
        "id": "T79UToKk_iSh"
      },
      "execution_count": null,
      "outputs": []
    },
    {
      "cell_type": "code",
      "source": [
        "cols = df_copy.columns[2:]"
      ],
      "metadata": {
        "id": "Iess5UEmAiW0"
      },
      "execution_count": null,
      "outputs": []
    },
    {
      "cell_type": "code",
      "source": [
        "cols"
      ],
      "metadata": {
        "colab": {
          "base_uri": "https://localhost:8080/"
        },
        "id": "ax9UXospPj7m",
        "outputId": "386b3621-1d34-473b-d606-c93b10d85a35"
      },
      "execution_count": null,
      "outputs": [
        {
          "output_type": "execute_result",
          "data": {
            "text/plain": [
              "Index(['Population', 'Area (sq. mi.)', 'Pop. Density (per sq. mi.)',\n",
              "       'Coastline (coast/area ratio)', 'Net migration',\n",
              "       'Infant mortality (per 1000 births)', 'GDP ($ per capita)',\n",
              "       'Literacy (%)', 'Phones (per 1000)', 'Arable (%)', 'Crops (%)',\n",
              "       'Other (%)', 'Climate', 'Birthrate', 'Deathrate', 'Agriculture',\n",
              "       'Industry', 'Service'],\n",
              "      dtype='object')"
            ]
          },
          "metadata": {},
          "execution_count": 11
        }
      ]
    },
    {
      "cell_type": "code",
      "source": [
        "imputer = KNNImputer()\n",
        "df_copy[cols] = imputer.fit_transform(df_copy[cols])"
      ],
      "metadata": {
        "id": "1M1efGtH_6h8"
      },
      "execution_count": null,
      "outputs": []
    },
    {
      "cell_type": "code",
      "source": [
        "df_copy.info()"
      ],
      "metadata": {
        "colab": {
          "base_uri": "https://localhost:8080/"
        },
        "id": "U7R2owKdPrzc",
        "outputId": "83bf8ca7-1a5a-4ae9-fd5b-b15c86281a40"
      },
      "execution_count": null,
      "outputs": [
        {
          "output_type": "stream",
          "name": "stdout",
          "text": [
            "<class 'pandas.core.frame.DataFrame'>\n",
            "Int64Index: 218 entries, 0 to 226\n",
            "Data columns (total 20 columns):\n",
            " #   Column                              Non-Null Count  Dtype  \n",
            "---  ------                              --------------  -----  \n",
            " 0   Country                             218 non-null    object \n",
            " 1   Region                              218 non-null    object \n",
            " 2   Population                          218 non-null    float64\n",
            " 3   Area (sq. mi.)                      218 non-null    float64\n",
            " 4   Pop. Density (per sq. mi.)          218 non-null    float64\n",
            " 5   Coastline (coast/area ratio)        218 non-null    float64\n",
            " 6   Net migration                       218 non-null    float64\n",
            " 7   Infant mortality (per 1000 births)  218 non-null    float64\n",
            " 8   GDP ($ per capita)                  218 non-null    float64\n",
            " 9   Literacy (%)                        218 non-null    float64\n",
            " 10  Phones (per 1000)                   218 non-null    float64\n",
            " 11  Arable (%)                          218 non-null    float64\n",
            " 12  Crops (%)                           218 non-null    float64\n",
            " 13  Other (%)                           218 non-null    float64\n",
            " 14  Climate                             218 non-null    float64\n",
            " 15  Birthrate                           218 non-null    float64\n",
            " 16  Deathrate                           218 non-null    float64\n",
            " 17  Agriculture                         218 non-null    float64\n",
            " 18  Industry                            218 non-null    float64\n",
            " 19  Service                             218 non-null    float64\n",
            "dtypes: float64(18), object(2)\n",
            "memory usage: 35.8+ KB\n"
          ]
        }
      ]
    },
    {
      "cell_type": "code",
      "source": [
        "import scipy.cluster.hierarchy as shc"
      ],
      "metadata": {
        "id": "1NhvQUmnz4pi"
      },
      "execution_count": null,
      "outputs": []
    },
    {
      "cell_type": "code",
      "source": [
        "from sklearn.preprocessing import LabelEncoder"
      ],
      "metadata": {
        "id": "ELe3qumkQfny"
      },
      "execution_count": null,
      "outputs": []
    },
    {
      "cell_type": "code",
      "source": [
        "encoder = LabelEncoder()"
      ],
      "metadata": {
        "id": "fKDXKAZ9Qt_r"
      },
      "execution_count": null,
      "outputs": []
    },
    {
      "cell_type": "code",
      "source": [
        "df_copy.drop(columns='Country', inplace = True)"
      ],
      "metadata": {
        "id": "ZhtkEjS1Qwne"
      },
      "execution_count": null,
      "outputs": []
    },
    {
      "cell_type": "code",
      "source": [
        "df_copy['Region'] = encoder.fit_transform(df_copy['Region'])"
      ],
      "metadata": {
        "id": "Bs14d_usRcM8"
      },
      "execution_count": null,
      "outputs": []
    },
    {
      "cell_type": "code",
      "source": [
        "df_copy['Region'].unique()"
      ],
      "metadata": {
        "colab": {
          "base_uri": "https://localhost:8080/"
        },
        "id": "qt3rTP6_Rqo3",
        "outputId": "27041cc0-e390-4c4f-e81e-548a3be524e1"
      },
      "execution_count": null,
      "outputs": [
        {
          "output_type": "execute_result",
          "data": {
            "text/plain": [
              "array([ 0,  3,  6,  8, 10,  9,  4,  2,  5,  7,  1])"
            ]
          },
          "metadata": {},
          "execution_count": 20
        }
      ]
    },
    {
      "cell_type": "code",
      "source": [
        "df_copy.shape"
      ],
      "metadata": {
        "colab": {
          "base_uri": "https://localhost:8080/"
        },
        "id": "BCKhL7TrR74T",
        "outputId": "49f9c452-b0c7-4e84-b3f9-f1e5fc2ee17f"
      },
      "execution_count": null,
      "outputs": [
        {
          "output_type": "execute_result",
          "data": {
            "text/plain": [
              "(218, 19)"
            ]
          },
          "metadata": {},
          "execution_count": 21
        }
      ]
    },
    {
      "cell_type": "code",
      "source": [
        "df_copy.describe()"
      ],
      "metadata": {
        "colab": {
          "base_uri": "https://localhost:8080/",
          "height": 416
        },
        "id": "YSnHey7K8riU",
        "outputId": "caa05e7e-9a49-496c-d1d7-745d6ab2dce5"
      },
      "execution_count": null,
      "outputs": [
        {
          "output_type": "execute_result",
          "data": {
            "text/plain": [
              "           Region    Population  Area (sq. mi.)  Pop. Density (per sq. mi.)  \\\n",
              "count  218.000000  2.180000e+02    2.180000e+02                  218.000000   \n",
              "mean     5.724771  2.987254e+07    6.211827e+05                 3860.733945   \n",
              "std      3.377539  1.201747e+08    1.823293e+06                16930.189399   \n",
              "min      0.000000  7.026000e+03    2.000000e+00                    0.000000   \n",
              "25%      4.000000  4.774422e+05    6.995000e+03                  284.000000   \n",
              "50%      5.000000  5.335410e+06    9.234550e+04                  774.000000   \n",
              "75%      9.000000  1.880989e+07    4.493230e+05                 1909.750000   \n",
              "max     10.000000  1.313974e+09    1.707520e+07               162715.000000   \n",
              "\n",
              "       Coastline (coast/area ratio)  Net migration  \\\n",
              "count                    218.000000     218.000000   \n",
              "mean                    2083.706422       8.004587   \n",
              "std                     7358.773590     480.661847   \n",
              "min                        0.000000   -2099.000000   \n",
              "25%                        9.250000     -70.000000   \n",
              "50%                       70.500000       0.000000   \n",
              "75%                      914.500000      81.500000   \n",
              "max                    87066.000000    2306.000000   \n",
              "\n",
              "       Infant mortality (per 1000 births)  GDP ($ per capita)  Literacy (%)  \\\n",
              "count                          218.000000          218.000000    218.000000   \n",
              "mean                          3212.495413         9785.779817    832.865138   \n",
              "std                           3528.169799        10122.445270    192.190146   \n",
              "min                             19.000000          500.000000    176.000000   \n",
              "25%                            645.750000         1900.000000    759.000000   \n",
              "50%                           1832.000000         5800.000000    921.000000   \n",
              "75%                           5113.500000        15700.000000    979.000000   \n",
              "max                          19119.000000        55100.000000   1000.000000   \n",
              "\n",
              "       Phones (per 1000)   Arable (%)    Crops (%)    Other (%)     Climate  \\\n",
              "count         218.000000   218.000000   218.000000   218.000000  218.000000   \n",
              "mean         2341.986239  1170.417431   418.399083  6840.935780    3.073394   \n",
              "std          2263.446008  1277.403979   824.730897  3216.859806    3.656007   \n",
              "min             2.000000     0.000000     0.000000    50.000000    1.000000   \n",
              "25%           364.500000   211.250000     9.500000  5629.250000    2.000000   \n",
              "50%          1729.000000   697.000000    91.500000  8017.000000    2.000000   \n",
              "75%          3920.250000  1778.250000   409.250000  9293.750000    3.000000   \n",
              "max         10356.000000  6211.000000  5068.000000  9996.000000   25.000000   \n",
              "\n",
              "         Birthrate    Deathrate  Agriculture    Industry     Service  \n",
              "count   218.000000   218.000000   218.000000  218.000000  218.000000  \n",
              "mean   2049.894495   826.087156   105.028440  215.839450  407.503670  \n",
              "std    1225.678006   507.110489   124.916235  170.082706  259.079021  \n",
              "min      10.000000    22.000000     0.000000    1.000000    5.000000  \n",
              "25%    1084.250000   522.250000    18.000000   39.500000   79.250000  \n",
              "50%    1802.000000   715.500000    55.000000  216.500000  451.400000  \n",
              "75%    2935.500000  1030.000000   147.750000  311.750000  611.000000  \n",
              "max    5073.000000  2974.000000   769.000000  906.000000  954.000000  "
            ],
            "text/html": [
              "\n",
              "  <div id=\"df-8990a778-3198-40fd-86f6-fc535aa2186e\">\n",
              "    <div class=\"colab-df-container\">\n",
              "      <div>\n",
              "<style scoped>\n",
              "    .dataframe tbody tr th:only-of-type {\n",
              "        vertical-align: middle;\n",
              "    }\n",
              "\n",
              "    .dataframe tbody tr th {\n",
              "        vertical-align: top;\n",
              "    }\n",
              "\n",
              "    .dataframe thead th {\n",
              "        text-align: right;\n",
              "    }\n",
              "</style>\n",
              "<table border=\"1\" class=\"dataframe\">\n",
              "  <thead>\n",
              "    <tr style=\"text-align: right;\">\n",
              "      <th></th>\n",
              "      <th>Region</th>\n",
              "      <th>Population</th>\n",
              "      <th>Area (sq. mi.)</th>\n",
              "      <th>Pop. Density (per sq. mi.)</th>\n",
              "      <th>Coastline (coast/area ratio)</th>\n",
              "      <th>Net migration</th>\n",
              "      <th>Infant mortality (per 1000 births)</th>\n",
              "      <th>GDP ($ per capita)</th>\n",
              "      <th>Literacy (%)</th>\n",
              "      <th>Phones (per 1000)</th>\n",
              "      <th>Arable (%)</th>\n",
              "      <th>Crops (%)</th>\n",
              "      <th>Other (%)</th>\n",
              "      <th>Climate</th>\n",
              "      <th>Birthrate</th>\n",
              "      <th>Deathrate</th>\n",
              "      <th>Agriculture</th>\n",
              "      <th>Industry</th>\n",
              "      <th>Service</th>\n",
              "    </tr>\n",
              "  </thead>\n",
              "  <tbody>\n",
              "    <tr>\n",
              "      <th>count</th>\n",
              "      <td>218.000000</td>\n",
              "      <td>2.180000e+02</td>\n",
              "      <td>2.180000e+02</td>\n",
              "      <td>218.000000</td>\n",
              "      <td>218.000000</td>\n",
              "      <td>218.000000</td>\n",
              "      <td>218.000000</td>\n",
              "      <td>218.000000</td>\n",
              "      <td>218.000000</td>\n",
              "      <td>218.000000</td>\n",
              "      <td>218.000000</td>\n",
              "      <td>218.000000</td>\n",
              "      <td>218.000000</td>\n",
              "      <td>218.000000</td>\n",
              "      <td>218.000000</td>\n",
              "      <td>218.000000</td>\n",
              "      <td>218.000000</td>\n",
              "      <td>218.000000</td>\n",
              "      <td>218.000000</td>\n",
              "    </tr>\n",
              "    <tr>\n",
              "      <th>mean</th>\n",
              "      <td>5.724771</td>\n",
              "      <td>2.987254e+07</td>\n",
              "      <td>6.211827e+05</td>\n",
              "      <td>3860.733945</td>\n",
              "      <td>2083.706422</td>\n",
              "      <td>8.004587</td>\n",
              "      <td>3212.495413</td>\n",
              "      <td>9785.779817</td>\n",
              "      <td>832.865138</td>\n",
              "      <td>2341.986239</td>\n",
              "      <td>1170.417431</td>\n",
              "      <td>418.399083</td>\n",
              "      <td>6840.935780</td>\n",
              "      <td>3.073394</td>\n",
              "      <td>2049.894495</td>\n",
              "      <td>826.087156</td>\n",
              "      <td>105.028440</td>\n",
              "      <td>215.839450</td>\n",
              "      <td>407.503670</td>\n",
              "    </tr>\n",
              "    <tr>\n",
              "      <th>std</th>\n",
              "      <td>3.377539</td>\n",
              "      <td>1.201747e+08</td>\n",
              "      <td>1.823293e+06</td>\n",
              "      <td>16930.189399</td>\n",
              "      <td>7358.773590</td>\n",
              "      <td>480.661847</td>\n",
              "      <td>3528.169799</td>\n",
              "      <td>10122.445270</td>\n",
              "      <td>192.190146</td>\n",
              "      <td>2263.446008</td>\n",
              "      <td>1277.403979</td>\n",
              "      <td>824.730897</td>\n",
              "      <td>3216.859806</td>\n",
              "      <td>3.656007</td>\n",
              "      <td>1225.678006</td>\n",
              "      <td>507.110489</td>\n",
              "      <td>124.916235</td>\n",
              "      <td>170.082706</td>\n",
              "      <td>259.079021</td>\n",
              "    </tr>\n",
              "    <tr>\n",
              "      <th>min</th>\n",
              "      <td>0.000000</td>\n",
              "      <td>7.026000e+03</td>\n",
              "      <td>2.000000e+00</td>\n",
              "      <td>0.000000</td>\n",
              "      <td>0.000000</td>\n",
              "      <td>-2099.000000</td>\n",
              "      <td>19.000000</td>\n",
              "      <td>500.000000</td>\n",
              "      <td>176.000000</td>\n",
              "      <td>2.000000</td>\n",
              "      <td>0.000000</td>\n",
              "      <td>0.000000</td>\n",
              "      <td>50.000000</td>\n",
              "      <td>1.000000</td>\n",
              "      <td>10.000000</td>\n",
              "      <td>22.000000</td>\n",
              "      <td>0.000000</td>\n",
              "      <td>1.000000</td>\n",
              "      <td>5.000000</td>\n",
              "    </tr>\n",
              "    <tr>\n",
              "      <th>25%</th>\n",
              "      <td>4.000000</td>\n",
              "      <td>4.774422e+05</td>\n",
              "      <td>6.995000e+03</td>\n",
              "      <td>284.000000</td>\n",
              "      <td>9.250000</td>\n",
              "      <td>-70.000000</td>\n",
              "      <td>645.750000</td>\n",
              "      <td>1900.000000</td>\n",
              "      <td>759.000000</td>\n",
              "      <td>364.500000</td>\n",
              "      <td>211.250000</td>\n",
              "      <td>9.500000</td>\n",
              "      <td>5629.250000</td>\n",
              "      <td>2.000000</td>\n",
              "      <td>1084.250000</td>\n",
              "      <td>522.250000</td>\n",
              "      <td>18.000000</td>\n",
              "      <td>39.500000</td>\n",
              "      <td>79.250000</td>\n",
              "    </tr>\n",
              "    <tr>\n",
              "      <th>50%</th>\n",
              "      <td>5.000000</td>\n",
              "      <td>5.335410e+06</td>\n",
              "      <td>9.234550e+04</td>\n",
              "      <td>774.000000</td>\n",
              "      <td>70.500000</td>\n",
              "      <td>0.000000</td>\n",
              "      <td>1832.000000</td>\n",
              "      <td>5800.000000</td>\n",
              "      <td>921.000000</td>\n",
              "      <td>1729.000000</td>\n",
              "      <td>697.000000</td>\n",
              "      <td>91.500000</td>\n",
              "      <td>8017.000000</td>\n",
              "      <td>2.000000</td>\n",
              "      <td>1802.000000</td>\n",
              "      <td>715.500000</td>\n",
              "      <td>55.000000</td>\n",
              "      <td>216.500000</td>\n",
              "      <td>451.400000</td>\n",
              "    </tr>\n",
              "    <tr>\n",
              "      <th>75%</th>\n",
              "      <td>9.000000</td>\n",
              "      <td>1.880989e+07</td>\n",
              "      <td>4.493230e+05</td>\n",
              "      <td>1909.750000</td>\n",
              "      <td>914.500000</td>\n",
              "      <td>81.500000</td>\n",
              "      <td>5113.500000</td>\n",
              "      <td>15700.000000</td>\n",
              "      <td>979.000000</td>\n",
              "      <td>3920.250000</td>\n",
              "      <td>1778.250000</td>\n",
              "      <td>409.250000</td>\n",
              "      <td>9293.750000</td>\n",
              "      <td>3.000000</td>\n",
              "      <td>2935.500000</td>\n",
              "      <td>1030.000000</td>\n",
              "      <td>147.750000</td>\n",
              "      <td>311.750000</td>\n",
              "      <td>611.000000</td>\n",
              "    </tr>\n",
              "    <tr>\n",
              "      <th>max</th>\n",
              "      <td>10.000000</td>\n",
              "      <td>1.313974e+09</td>\n",
              "      <td>1.707520e+07</td>\n",
              "      <td>162715.000000</td>\n",
              "      <td>87066.000000</td>\n",
              "      <td>2306.000000</td>\n",
              "      <td>19119.000000</td>\n",
              "      <td>55100.000000</td>\n",
              "      <td>1000.000000</td>\n",
              "      <td>10356.000000</td>\n",
              "      <td>6211.000000</td>\n",
              "      <td>5068.000000</td>\n",
              "      <td>9996.000000</td>\n",
              "      <td>25.000000</td>\n",
              "      <td>5073.000000</td>\n",
              "      <td>2974.000000</td>\n",
              "      <td>769.000000</td>\n",
              "      <td>906.000000</td>\n",
              "      <td>954.000000</td>\n",
              "    </tr>\n",
              "  </tbody>\n",
              "</table>\n",
              "</div>\n",
              "      <button class=\"colab-df-convert\" onclick=\"convertToInteractive('df-8990a778-3198-40fd-86f6-fc535aa2186e')\"\n",
              "              title=\"Convert this dataframe to an interactive table.\"\n",
              "              style=\"display:none;\">\n",
              "        \n",
              "  <svg xmlns=\"http://www.w3.org/2000/svg\" height=\"24px\"viewBox=\"0 0 24 24\"\n",
              "       width=\"24px\">\n",
              "    <path d=\"M0 0h24v24H0V0z\" fill=\"none\"/>\n",
              "    <path d=\"M18.56 5.44l.94 2.06.94-2.06 2.06-.94-2.06-.94-.94-2.06-.94 2.06-2.06.94zm-11 1L8.5 8.5l.94-2.06 2.06-.94-2.06-.94L8.5 2.5l-.94 2.06-2.06.94zm10 10l.94 2.06.94-2.06 2.06-.94-2.06-.94-.94-2.06-.94 2.06-2.06.94z\"/><path d=\"M17.41 7.96l-1.37-1.37c-.4-.4-.92-.59-1.43-.59-.52 0-1.04.2-1.43.59L10.3 9.45l-7.72 7.72c-.78.78-.78 2.05 0 2.83L4 21.41c.39.39.9.59 1.41.59.51 0 1.02-.2 1.41-.59l7.78-7.78 2.81-2.81c.8-.78.8-2.07 0-2.86zM5.41 20L4 18.59l7.72-7.72 1.47 1.35L5.41 20z\"/>\n",
              "  </svg>\n",
              "      </button>\n",
              "      \n",
              "  <style>\n",
              "    .colab-df-container {\n",
              "      display:flex;\n",
              "      flex-wrap:wrap;\n",
              "      gap: 12px;\n",
              "    }\n",
              "\n",
              "    .colab-df-convert {\n",
              "      background-color: #E8F0FE;\n",
              "      border: none;\n",
              "      border-radius: 50%;\n",
              "      cursor: pointer;\n",
              "      display: none;\n",
              "      fill: #1967D2;\n",
              "      height: 32px;\n",
              "      padding: 0 0 0 0;\n",
              "      width: 32px;\n",
              "    }\n",
              "\n",
              "    .colab-df-convert:hover {\n",
              "      background-color: #E2EBFA;\n",
              "      box-shadow: 0px 1px 2px rgba(60, 64, 67, 0.3), 0px 1px 3px 1px rgba(60, 64, 67, 0.15);\n",
              "      fill: #174EA6;\n",
              "    }\n",
              "\n",
              "    [theme=dark] .colab-df-convert {\n",
              "      background-color: #3B4455;\n",
              "      fill: #D2E3FC;\n",
              "    }\n",
              "\n",
              "    [theme=dark] .colab-df-convert:hover {\n",
              "      background-color: #434B5C;\n",
              "      box-shadow: 0px 1px 3px 1px rgba(0, 0, 0, 0.15);\n",
              "      filter: drop-shadow(0px 1px 2px rgba(0, 0, 0, 0.3));\n",
              "      fill: #FFFFFF;\n",
              "    }\n",
              "  </style>\n",
              "\n",
              "      <script>\n",
              "        const buttonEl =\n",
              "          document.querySelector('#df-8990a778-3198-40fd-86f6-fc535aa2186e button.colab-df-convert');\n",
              "        buttonEl.style.display =\n",
              "          google.colab.kernel.accessAllowed ? 'block' : 'none';\n",
              "\n",
              "        async function convertToInteractive(key) {\n",
              "          const element = document.querySelector('#df-8990a778-3198-40fd-86f6-fc535aa2186e');\n",
              "          const dataTable =\n",
              "            await google.colab.kernel.invokeFunction('convertToInteractive',\n",
              "                                                     [key], {});\n",
              "          if (!dataTable) return;\n",
              "\n",
              "          const docLinkHtml = 'Like what you see? Visit the ' +\n",
              "            '<a target=\"_blank\" href=https://colab.research.google.com/notebooks/data_table.ipynb>data table notebook</a>'\n",
              "            + ' to learn more about interactive tables.';\n",
              "          element.innerHTML = '';\n",
              "          dataTable['output_type'] = 'display_data';\n",
              "          await google.colab.output.renderOutput(dataTable, element);\n",
              "          const docLink = document.createElement('div');\n",
              "          docLink.innerHTML = docLinkHtml;\n",
              "          element.appendChild(docLink);\n",
              "        }\n",
              "      </script>\n",
              "    </div>\n",
              "  </div>\n",
              "  "
            ]
          },
          "metadata": {},
          "execution_count": 22
        }
      ]
    },
    {
      "cell_type": "code",
      "source": [
        "plt.figure(figsize=(15, 6))\n",
        "plt.title(\"Counters Dendograms\")\n",
        "dend = shc.dendrogram(shc.linkage(y = df_copy, method = 'single',metric= 'euclidean'), orientation='top')"
      ],
      "metadata": {
        "colab": {
          "base_uri": "https://localhost:8080/",
          "height": 390
        },
        "id": "K_eTi5WSz7yP",
        "outputId": "72a33ee1-e546-4059-d8b7-1a31dc9ca079"
      },
      "execution_count": null,
      "outputs": [
        {
          "output_type": "display_data",
          "data": {
            "text/plain": [
              "<Figure size 1080x432 with 1 Axes>"
            ],
            "image/png": "[encoded data removed]"
          },
          "metadata": {
            "needs_background": "light"
          }
        }
      ]
    },
    {
      "cell_type": "markdown",
      "source": [
        "It seems to be 3 clusters but the data need to be normalized"
      ],
      "metadata": {
        "id": "9TQ9ZA5G9CbI"
      }
    },
    {
      "cell_type": "markdown",
      "metadata": {
        "id": "GeTpheUQxKOh"
      },
      "source": [
        "## 4. <a name=\"4\">Features transformation</a>\n",
        "(<a href=\"#0\">Go to top</a>)"
      ]
    },
    {
      "cell_type": "markdown",
      "metadata": {
        "id": "XW-sim_LxKOh"
      },
      "source": [
        "*What is the feature scaling technique that would use and why?* <br>\n",
        "*return to this section again and try another technique and see how that will impact your result*<br>\n",
        "for more details on different methods for scaling check these links\n",
        "- https://scikit-learn.org/stable/modules/preprocessing.html#preprocessing\n",
        "- https://scikit-learn.org/stable/modules/classes.html#module-sklearn.preprocessing\n",
        "- https://www.analyticsvidhya.com/blog/2020/07/types-of-feature-transformation-and-scaling/"
      ]
    },
    {
      "cell_type": "code",
      "execution_count": null,
      "metadata": {
        "id": "GHALRkVFxKOi"
      },
      "outputs": [],
      "source": [
        "from sklearn import preprocessing"
      ]
    },
    {
      "cell_type": "code",
      "source": [
        "std_scaler = preprocessing.StandardScaler()"
      ],
      "metadata": {
        "id": "_NL4Ag429_UD"
      },
      "execution_count": null,
      "outputs": []
    },
    {
      "cell_type": "code",
      "execution_count": null,
      "metadata": {
        "id": "-kxc2wPAxKOi"
      },
      "outputs": [],
      "source": [
        "data_std = std_scaler.fit_transform(df_copy)"
      ]
    },
    {
      "cell_type": "markdown",
      "metadata": {
        "id": "6VTp9lQuxKOi"
      },
      "source": [
        "## 5. <a name=\"5\">Training and hyperparamter tuning</a>\n",
        "(<a href=\"#0\">Go to top</a>)\n"
      ]
    },
    {
      "cell_type": "markdown",
      "metadata": {
        "id": "zgaK95-PxKOj"
      },
      "source": [
        "Before we start the training process we need to specify 3 paramters:<br>\n",
        "1- Linkage criteria : The linkage criterion determines the distance between two clusters\n",
        "  - Complete-Linkage Clustering\n",
        "  - Single-Linkage Clustering\n",
        "  - Average-Linkage Clustering\n",
        "  - Centroid Linkage Clustering\n",
        "\n",
        "2- Distance function:\n",
        "  - Euclidean Distance \n",
        "  - Manhattan Distance \n",
        "  - Mahalanobis distance \n",
        "\n",
        "3- Number of clusters\n"
      ]
    },
    {
      "cell_type": "markdown",
      "metadata": {
        "id": "qXitbnhixKOj"
      },
      "source": [
        "### *Number of clusters*\n",
        "Use Dendograms to specify the optimum number of clusters\n",
        "- Compare how changing linkage criteria or distance function would affect the optimum number of clusters\n",
        "- you can use silhouette_score or any other evalution method to help you determine the optimum number of clusters\n",
        "https://scikit-learn.org/stable/modules/generated/sklearn.metrics.silhouette_score.html"
      ]
    },
    {
      "cell_type": "code",
      "execution_count": null,
      "metadata": {
        "colab": {
          "base_uri": "https://localhost:8080/",
          "height": 444
        },
        "id": "oqmy7wCYxKOk",
        "outputId": "e163f0c2-6f27-432f-85dd-4ec0a82d08d8"
      },
      "outputs": [
        {
          "output_type": "display_data",
          "data": {
            "text/plain": [
              "<Figure size 720x504 with 1 Axes>"
            ],
            "image/png": "[encoded data removed]"
          },
          "metadata": {
            "needs_background": "light"
          }
        }
      ],
      "source": [
        "import scipy.cluster.hierarchy as shc\n",
        "\n",
        "plt.figure(figsize=(10, 7))\n",
        "plt.title(\"Counters Dendograms\")\n",
        "dend = shc.dendrogram(shc.linkage(y=data_std , method = 'single',metric= 'euclidean'),orientation='top') #fill y with your dataframe\n",
        "                                                                                      #and method with linkage criteria\n",
        "                                                                                      #and metric with distance function"
      ]
    },
    {
      "cell_type": "code",
      "execution_count": null,
      "metadata": {
        "id": "fSAf5JiAxKOk"
      },
      "outputs": [],
      "source": [
        "#training\n",
        "from sklearn.cluster import AgglomerativeClustering\n",
        "\n",
        "# Hierarchical clustering using ward's method\n",
        "ward = AgglomerativeClustering(n_clusters=3)\n",
        "ward_pred = ward.fit_predict(data_std)\n",
        "\n",
        "# Hierarchical clustering using complete linkage\n",
        "complete = AgglomerativeClustering(n_clusters=3, linkage = 'complete')\n",
        "complete_pred = complete.fit_predict(data_std)\n",
        "\n",
        "# Hierarchical clustering using average linkage\n",
        "avg = AgglomerativeClustering(n_clusters=3, linkage = 'average')\n",
        "avg_pred = avg.fit_predict(data_std)"
      ]
    },
    {
      "cell_type": "code",
      "source": [
        "plt.figure(figsize =(8, 8))\n",
        "plt.title(\"Ward's method\")\n",
        "Dendrogram = shc.dendrogram((shc.linkage(data_std, method ='ward')))"
      ],
      "metadata": {
        "colab": {
          "base_uri": "https://localhost:8080/",
          "height": 498
        },
        "id": "uKfkYkdOF7Xh",
        "outputId": "59859650-119a-4347-e316-e5e55f48eaa0"
      },
      "execution_count": null,
      "outputs": [
        {
          "output_type": "display_data",
          "data": {
            "text/plain": [
              "<Figure size 576x576 with 1 Axes>"
            ],
            "image/png": "[encoded data removed]"
          },
          "metadata": {
            "needs_background": "light"
          }
        }
      ]
    },
    {
      "cell_type": "code",
      "source": [
        "plt.figure(figsize =(15, 8))\n",
        "plt.title(\"Ward's method\")\n",
        "Dendrogram = shc.dendrogram((shc.linkage(data_std, method ='complete')))"
      ],
      "metadata": {
        "colab": {
          "base_uri": "https://localhost:8080/",
          "height": 498
        },
        "id": "xvekCf1LGR2V",
        "outputId": "c8f6638d-32cb-474f-dd1a-381d22980e56"
      },
      "execution_count": null,
      "outputs": [
        {
          "output_type": "display_data",
          "data": {
            "text/plain": [
              "<Figure size 1080x576 with 1 Axes>"
            ],
            "image/png": "[encoded data removed]"
          },
          "metadata": {
            "needs_background": "light"
          }
        }
      ]
    },
    {
      "cell_type": "code",
      "source": [
        "plt.figure(figsize =(15, 8))\n",
        "plt.title(\"Ward's method\")\n",
        "Dendrogram = shc.dendrogram((shc.linkage(data_std, method ='average')))"
      ],
      "metadata": {
        "colab": {
          "base_uri": "https://localhost:8080/",
          "height": 498
        },
        "id": "iBUMeGKKGUYQ",
        "outputId": "9b0136f7-614a-436a-feb9-7bb8a03ffa34"
      },
      "execution_count": null,
      "outputs": [
        {
          "output_type": "display_data",
          "data": {
            "text/plain": [
              "<Figure size 1080x576 with 1 Axes>"
            ],
            "image/png": "[encoded data removed]"
          },
          "metadata": {
            "needs_background": "light"
          }
        }
      ]
    },
    {
      "cell_type": "code",
      "source": [
        "from sklearn.metrics import silhouette_score"
      ],
      "metadata": {
        "id": "uDRAtDffE19X"
      },
      "execution_count": null,
      "outputs": []
    },
    {
      "cell_type": "code",
      "source": [
        "k = [2, 3]\n",
        "# Appending the silhouette scores of the different models to the list\n",
        "silhouette_scores = []\n",
        "for i in range(len(k)):\n",
        "  ward = AgglomerativeClustering(n_clusters= k[i])\n",
        "  silhouette_scores.append(silhouette_score(data_std, ward.fit_predict(data_std)))\n",
        "\n",
        "# Plotting a bar graph to compare the results\n",
        "plt.bar(k, silhouette_scores)\n",
        "plt.xlabel('Number of clusters', fontsize = 20)\n",
        "plt.ylabel('S(i)', fontsize = 20)\n",
        "plt.xticks(k)\n"
      ],
      "metadata": {
        "colab": {
          "base_uri": "https://localhost:8080/",
          "height": 288
        },
        "id": "JEbCrUtzGqlK",
        "outputId": "3da8890c-2788-406e-c46f-022bc6dfd782"
      },
      "execution_count": null,
      "outputs": [
        {
          "output_type": "display_data",
          "data": {
            "text/plain": [
              "<Figure size 432x288 with 1 Axes>"
            ],
            "image/png": "[encoded data removed]"
          },
          "metadata": {
            "needs_background": "light"
          }
        }
      ]
    },
    {
      "cell_type": "code",
      "source": [
        "k = [2, 3, 4]\n",
        "\n",
        "# Appending the silhouette scores of the different models to the list\n",
        "silhouette_scores = []\n",
        "for i in range(len(k)):\n",
        "  complete = AgglomerativeClustering(n_clusters= k[i], linkage= 'complete')\n",
        "  silhouette_scores.append(silhouette_score(data_std, complete.fit_predict(data_std)))\n",
        "\n",
        "# Plotting a bar graph to compare the results\n",
        "plt.bar(k, silhouette_scores)\n",
        "plt.xlabel('Number of clusters', fontsize = 20)\n",
        "plt.ylabel('S(i)', fontsize = 20)\n",
        "plt.xticks(k)\n",
        "plt.title('euclidean distance')\n",
        "plt.show()\n",
        "\n",
        "silhouette_scores = []\n",
        "for i in range(len(k)):\n",
        "  complete = AgglomerativeClustering(n_clusters= k[i], linkage= 'complete', affinity= \"manhattan\")\n",
        "  silhouette_scores.append(silhouette_score(data_std, complete.fit_predict(data_std)))\n",
        "\n",
        "# Plotting a bar graph to compare the results\n",
        "plt.bar(k, silhouette_scores)\n",
        "plt.xlabel('Number of clusters', fontsize = 20)\n",
        "plt.ylabel('S(i)', fontsize = 20)\n",
        "plt.xticks(k)\n",
        "plt.title('manhattan distance')\n",
        "plt.show()\n"
      ],
      "metadata": {
        "colab": {
          "base_uri": "https://localhost:8080/",
          "height": 591
        },
        "id": "Xgg5390qIxNu",
        "outputId": "8f71bba5-79ec-4415-ee10-5f924e74aa07"
      },
      "execution_count": null,
      "outputs": [
        {
          "output_type": "display_data",
          "data": {
            "text/plain": [
              "<Figure size 432x288 with 1 Axes>"
            ],
            "image/png": "[encoded data removed]"
          },
          "metadata": {
            "needs_background": "light"
          }
        },
        {
          "output_type": "display_data",
          "data": {
            "text/plain": [
              "<Figure size 432x288 with 1 Axes>"
            ],
            "image/png": "[encoded data removed]"
          },
          "metadata": {
            "needs_background": "light"
          }
        }
      ]
    },
    {
      "cell_type": "code",
      "source": [
        "plt.subplot(1,2,1)\n",
        "\n",
        "k = [2, 3, 4]\n",
        "\n",
        "# Appending the silhouette scores of the different models to the list\n",
        "silhouette_scores = []\n",
        "for i in range(len(k)):\n",
        "  avg = AgglomerativeClustering(n_clusters= k[i], linkage= 'average')\n",
        "  silhouette_scores.append(silhouette_score(data_std, avg.fit_predict(data_std)))\n",
        "\n",
        "# Plotting a bar graph to compare the results\n",
        "plt.bar(k, silhouette_scores)\n",
        "plt.xlabel('Number of clusters', fontsize = 20)\n",
        "plt.ylabel('S(i)', fontsize = 20)\n",
        "plt.xticks(k)\n",
        "plt.title('euclidean distance')\n",
        "plt.show()\n",
        "\n",
        "\n",
        "plt.subplot(1,2,2)\n",
        "silhouette_scores = []\n",
        "for i in range(len(k)):\n",
        "  avg = AgglomerativeClustering(n_clusters= k[i], linkage= 'average', affinity= 'manhattan')\n",
        "  silhouette_scores.append(silhouette_score(data_std, avg.fit_predict(data_std)))\n",
        "\n",
        "# Plotting a bar graph to compare the results\n",
        "plt.bar(k, silhouette_scores)\n",
        "plt.xlabel('Number of clusters', fontsize = 20)\n",
        "plt.ylabel('S(i)', fontsize = 20)\n",
        "plt.xticks(k)\n",
        "plt.title('manhattan distance ')\n",
        "plt.show()\n"
      ],
      "metadata": {
        "colab": {
          "base_uri": "https://localhost:8080/",
          "height": 591
        },
        "id": "WteejCRpI_I7",
        "outputId": "f633fff7-ddbe-4e38-85f1-398b42684995"
      },
      "execution_count": null,
      "outputs": [
        {
          "output_type": "display_data",
          "data": {
            "text/plain": [
              "<Figure size 432x288 with 1 Axes>"
            ],
            "image/png": "[encoded data removed]"
          },
          "metadata": {
            "needs_background": "light"
          }
        },
        {
          "output_type": "display_data",
          "data": {
            "text/plain": [
              "<Figure size 432x288 with 1 Axes>"
            ],
            "image/png": "[encoded data removed]"
          },
          "metadata": {
            "needs_background": "light"
          }
        }
      ]
    },
    {
      "cell_type": "markdown",
      "metadata": {
        "id": "ApBiJExixKOl"
      },
      "source": [
        "## 6. <a name=\"6\">improvement ideas</a>\n",
        "(<a href=\"#0\">Go to top</a>)"
      ]
    },
    {
      "cell_type": "markdown",
      "metadata": {
        "id": "Z4U1NxqPxKOl"
      },
      "source": [
        "- Try to use PCA to reduce the number of features and compare how this will affect the clustring process\n",
        "- Try to run your code again but with different tranformation technique\n",
        "- Implement gap statistics method and use it as evaluation metric and compare the result with what you did before https://www.datanovia.com/en/lessons/determining-the-optimal-number-of-clusters-3-must-know-methods/#gap-statistic-method "
      ]
    },
    {
      "cell_type": "code",
      "source": [
        "cov = np.cov(data_std.T)"
      ],
      "metadata": {
        "id": "OHSZP1uarbIC"
      },
      "execution_count": null,
      "outputs": []
    },
    {
      "cell_type": "code",
      "source": [
        "eig_val, eig_vec = np.linalg.eig(cov)\n",
        "print(\"Eigen values \", eig_val, \"\\n\")"
      ],
      "metadata": {
        "colab": {
          "base_uri": "https://localhost:8080/"
        },
        "id": "30Ih_vlIr3Js",
        "outputId": "a0acf2d3-e546-4e6b-8c7a-9151ce6a03c8"
      },
      "execution_count": null,
      "outputs": [
        {
          "output_type": "stream",
          "name": "stdout",
          "text": [
            "Eigen values  [4.27879026 2.15785352 1.75720967 1.41326207 1.31046019 1.16385673\n",
            " 1.07181705 0.11811408 0.24864653 0.24318741 0.32100369 0.85419556\n",
            " 0.39208208 0.78573016 0.73093561 0.66095072 0.46643023 0.52638669\n",
            " 0.58664536] \n",
            "\n"
          ]
        }
      ]
    },
    {
      "cell_type": "code",
      "source": [
        "sorted(eig_val, reverse= True)"
      ],
      "metadata": {
        "id": "ntxm-b4YsFw1"
      },
      "execution_count": null,
      "outputs": []
    },
    {
      "cell_type": "code",
      "source": [
        "sum_eig_val = np.sum(eig_val)"
      ],
      "metadata": {
        "id": "FTaDK1Ehuffn"
      },
      "execution_count": null,
      "outputs": []
    },
    {
      "cell_type": "code",
      "source": [
        "\n",
        "sum_eig_val = np.sum(eig_val)\n",
        "explained_variance = eig_val/ sum_eig_val\n",
        "print(explained_variance)\n",
        "cumulative_variance = np.cumsum(explained_variance)\n",
        "print(cumulative_variance)"
      ],
      "metadata": {
        "colab": {
          "base_uri": "https://localhost:8080/"
        },
        "id": "v5w9DN4gv78v",
        "outputId": "64a79626-b81c-43e4-aefe-979b47f802b1"
      },
      "execution_count": null,
      "outputs": [
        {
          "output_type": "stream",
          "name": "stdout",
          "text": [
            "[0.22416646 0.11305027 0.09206048 0.07404101 0.06865521 0.06097463\n",
            " 0.05615266 0.00618801 0.01302663 0.01274062 0.01681743 0.04475143\n",
            " 0.02054124 0.04116452 0.03829383 0.03462731 0.02443635 0.02757748\n",
            " 0.03073444]\n",
            "[0.22416646 0.33721673 0.42927721 0.50331822 0.57197343 0.63294805\n",
            " 0.68910071 0.69528872 0.70831535 0.72105598 0.73787341 0.78262484\n",
            " 0.80316608 0.8443306  0.88262443 0.91725173 0.94168808 0.96926556\n",
            " 1.        ]\n"
          ]
        }
      ]
    },
    {
      "cell_type": "code",
      "source": [
        "from sklearn.decomposition import PCA"
      ],
      "metadata": {
        "id": "JrpSQBx5xTE-"
      },
      "execution_count": null,
      "outputs": []
    },
    {
      "cell_type": "code",
      "source": [
        "pca = PCA(n_components= 7)"
      ],
      "metadata": {
        "id": "M5deMZDWwBc0"
      },
      "execution_count": null,
      "outputs": []
    },
    {
      "cell_type": "code",
      "source": [
        "principalComponents = pca.fit_transform(data_std)"
      ],
      "metadata": {
        "id": "eGU4T5DTxQzf"
      },
      "execution_count": null,
      "outputs": []
    },
    {
      "cell_type": "code",
      "source": [
        "k = [2, 3, 4]\n",
        "\n",
        "# Appending the silhouette scores of the different models to the list\n",
        "silhouette_scores = []\n",
        "for i in range(len(k)):\n",
        "  complete = AgglomerativeClustering(n_clusters= k[i], linkage= 'complete')\n",
        "  silhouette_scores.append(silhouette_score(principalComponents, complete.fit_predict(principalComponents)))\n",
        "\n",
        "# Plotting a bar graph to compare the results\n",
        "plt.bar(k, silhouette_scores)\n",
        "plt.xlabel('Number of clusters', fontsize = 20)\n",
        "plt.ylabel('S(i)', fontsize = 20)\n",
        "plt.xticks(k)\n",
        "plt.title('euclidean distance')\n",
        "plt.show()"
      ],
      "metadata": {
        "colab": {
          "base_uri": "https://localhost:8080/",
          "height": 304
        },
        "id": "J5fHn8EhzRIt",
        "outputId": "fba09786-e4eb-49e7-f0b2-2da050a1c341"
      },
      "execution_count": null,
      "outputs": [
        {
          "output_type": "display_data",
          "data": {
            "text/plain": [
              "<Figure size 432x288 with 1 Axes>"
            ],
            "image/png": "[encoded data removed]"
          },
          "metadata": {
            "needs_background": "light"
          }
        }
      ]
    },
    {
      "cell_type": "code",
      "source": [
        "pca = PCA(n_components= 10)\n",
        "principalComponents = pca.fit_transform(data_std)"
      ],
      "metadata": {
        "id": "G62jrX7Hzl8H"
      },
      "execution_count": null,
      "outputs": []
    },
    {
      "cell_type": "code",
      "source": [
        "k = [2, 3, 4]\n",
        "\n",
        "# Appending the silhouette scores of the different models to the list\n",
        "silhouette_scores = []\n",
        "for i in range(len(k)):\n",
        "  complete = AgglomerativeClustering(n_clusters= k[i], linkage= 'complete')\n",
        "  silhouette_scores.append(silhouette_score(principalComponents, complete.fit_predict(principalComponents)))\n",
        "\n",
        "# Plotting a bar graph to compare the results\n",
        "plt.bar(k, silhouette_scores)\n",
        "plt.xlabel('Number of clusters', fontsize = 20)\n",
        "plt.ylabel('S(i)', fontsize = 20)\n",
        "plt.xticks(k)\n",
        "plt.title('euclidean distance')\n",
        "plt.show()"
      ],
      "metadata": {
        "id": "wufqRZ0az3Mt",
        "outputId": "29bf2210-e005-49f1-fe9f-6439cd9a471b",
        "colab": {
          "base_uri": "https://localhost:8080/",
          "height": 304
        }
      },
      "execution_count": null,
      "outputs": [
        {
          "output_type": "display_data",
          "data": {
            "text/plain": [
              "<Figure size 432x288 with 1 Axes>"
            ],
            "image/png": "[encoded data removed]"
          },
          "metadata": {
            "needs_background": "light"
          }
        }
      ]
    },
    {
      "cell_type": "code",
      "source": [],
      "metadata": {
        "id": "gq1jzsA_z4sm"
      },
      "execution_count": null,
      "outputs": []
    }
  ],
  "metadata": {
    "kernelspec": {
      "display_name": "Python 3",
      "language": "python",
      "name": "python3"
    },
    "language_info": {
      "codemirror_mode": {
        "name": "ipython",
        "version": 3
      },
      "file_extension": ".py",
      "mimetype": "text/x-python",
      "name": "python",
      "nbconvert_exporter": "python",
      "pygments_lexer": "ipython3",
      "version": "3.7.6"
    },
    "colab": {
      "provenance": []
    }
  },
  "nbformat": 4,
  "nbformat_minor": 0
}